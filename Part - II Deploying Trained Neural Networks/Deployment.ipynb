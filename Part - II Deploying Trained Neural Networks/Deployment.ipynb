
{
 "cells": [
  {
   "cell_type": "markdown",
   "metadata": {},
   "source": [
    "<a href=\"https://www.nvidia.com/en-us/deep-learning-ai/education/\"> <img src=\"images/DLI Header.png\" alt=\"Header\" style=\"width: 400px;\"/> </a>"
   ]
  },
  {
   "cell_type": "markdown",
   "metadata": {},
   "source": [
    "# Deployment\n",
    "\n",
    "## Which files constitute a \"model\"?\n",
    "\n",
    "We make a trained network useful by removing it from its training environment and \"deploying\" it into an application. Start where we left off in DIGITS.\n",
    "\n",
    "DIGITS places the files we need to deploy in a directory that can either be downloaded or just pointed to. Since we're going to be deploying our model on the same server where it was trained, we can just point to the folder path that DIGITS generates.\n",
    "\n",
    "### <a href=\"../../../../digits\" target=\\\"_blank\\\">Open DIGITS</a>.\n",
    "\n",
    "From DIGITS home page, select the model that we named \"Dogs vs. Cats\".\n",
    "\n",
    "DIGITS' \"Job Page\" for the model is what you see as soon as you create the model, when it is training, and/or if you select the model under DIGITS' \"model\" tab. The Job Directory is in the top left.\n",
    "\n",
    "![](images/ModelJobView.PNG)\n",
    "\n",
    "**Copy the job directory (highlighted above) and replace ##FIXME## in the code block below. Once you've copied the directory, execute the cell (Shift+Enter) to store it to the variable <code>MODEL_JOB_DIR</code>**"
   ]
  },
  {
   "cell_type": "code",
   "execution_count": 1,
   "metadata": {},
   "outputs": [
    {
     "name": "stdout",
     "output_type": "stream",
     "text": [
      "caffe_output.log   snapshot_iter_735.caffemodel   status.pickle\r\n",
      "deploy.prototxt    snapshot_iter_735.solverstate  train_val.prototxt\r\n",
      "original.prototxt  solver.prototxt\r\n"
     ]
    }
   ],
   "source": [
    "MODEL_JOB_DIR = '/dli/data/digits/20180301-185638-e918'  ## Remember to set this to be the job directory for your model\n",
    "!ls $MODEL_JOB_DIR"
   ]
  },
  {
   "cell_type": "markdown",
   "metadata": {},
   "source": [