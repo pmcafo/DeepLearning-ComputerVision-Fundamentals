{
 "cells": [
  {
   "cell_type": "markdown",
   "metadata": {},
   "source": [
    "<a href=\"https://www.nvidia.com/en-us/deep-learning-ai/education/\"> <img src=\"images/DLI Header.png\" alt=\"Header\" style=\"width: 400px;\"/> </a>"
   ]
  },
  {
   "cell_type": "markdown",
   "metadata": {
    "raw_mimetype": "text/markdown"
   },
   "source": [
    "# Expose a network to data"
   ]
  },
  {
   "cell_type": "markdown",
   "metadata": {},
   "source": [
    "Your instructions will live in this notebook, and your workspace will be in DIGITS. You'll need to go back and forth between the two tabs. Open DIGITS in a seperate tab, here:\n",
    "\n",
    "### <a href=\"../../../../digits/models/images/classification/new\" target=\\\"_blank\\\">Open DIGITS</a>.\n",
    "\n",
