{
 "cells": [
  {
   "cell_type": "markdown",
   "metadata": {},
   "source": [
    "<a href=\"https://www.nvidia.com/en-us/deep-learning-ai/education/\"> <img src=\"images/DLI Header.png\" alt=\"Header\" style=\"width: 400px;\"/> </a>"
   ]
  },
  {
   "cell_type": "markdown",
   "metadata": {
    "raw_mimetype": "text/markdown"
   },
   "source": [
    "# Expose a network to data"
   ]
  },
  {
   "cell_type": "markdown",
   "metadata": {},
   "source": [
    "Your instructions will live in this notebook, and your workspace will be in DIGITS. You'll need to go back and forth between the two tabs. Open DIGITS in a seperate tab, here:\n",
    "\n",
    "### <a href=\"../../../../digits/models/images/classification/new\" target=\\\"_blank\\\">Open DIGITS</a>.\n",
    "\n",
    "If at any point DIGITS asks for a username, any username with lowercase letters will work. \n",
    "\n",
    "To teach a neural network to understand the difference between Louie and other dogs, we'll need images for the network to learn from. We've pre-loaded 8 labeled images of Louie and 8 labeled images of other dogs into the dataset called \"Images of Beagles.\"\n",
    "\n",
    "Select it as shown below:"
   ]
  },
  {
   "cell_type": "markdown",
   "metadata": {},
   "source": [
    "![](images/selectdatasetbeagle.PNG)"
   ]
  },
  {
   "cell_type": "markdown",
   "metadata": {},
   "source": [
    "Next, we'll tell DIGITS how many times to look through the images. Each trip through the data is called an **epoch.** Start with 1 by changing the number of \"Training epochs\" from 30.\n",
    "\n",
    "![](images/1Epoch.PNG)"
   ]
  },
  {
   "cell_type": "markdown",
   "metadata": {},
   "source": [
    "Note that you have many other options you could change. We call these **hyperparameters** and they change the way your network is trained. Leave those as defaults and we'll dig deeper into them as we progress through this course.\n",
    "\n",
    "Select the **deep neural network** to train by selecting \"AlexNet\" from the list of \"Standard Networks\". \n",
    "\n",
    "![](images/choosenetwork.PNG)\n",
    "\n",
    "We'll discover the many rules that were set by this choice but you can see when you select it that:\n",
    "\n",
    "#### Rule #1: AlexNet is intended to be used with 256X256 (color) images."
   ]
  },
  {
   "cell_type": "ma