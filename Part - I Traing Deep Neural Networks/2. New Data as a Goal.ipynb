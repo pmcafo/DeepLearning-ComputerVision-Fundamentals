
{
 "cells": [
  {
   "cell_type": "markdown",
   "metadata": {},
   "source": [
    "<a href=\"https://www.nvidia.com/en-us/deep-learning-ai/education/\"> <img src=\"images/DLI Header.png\" alt=\"Header\" style=\"width: 400px;\"/> </a>"
   ]
  },
  {
   "cell_type": "markdown",
   "metadata": {},
   "source": [
    "# Creating a model that is effective with *new data*\n",
    "\n",
    "In the era of big data, we create ~2.5 quintillion bytes of data per day. Free datasets are available from places like [Kaggle.com](https://www.kaggle.com/datasets) and [UCI](https://archive.ics.uci.edu/ml/datasets.html). Crowdsourced datasets are built through creative approaches - e.g. Facebook asking users to \"tag\" friends in their photos to create labeled facial recognition datasets. More complex datasets are generated manually by experts - e.g. asking radiologists to label specific parts of the heart.\n",
    "\n",
    "Until this point we have been working with a *very small* dataset of 16 images. We really need 10s of thousands of labeled images and don't (yet) have that for Louie. Luckily, Kaggle has a dataset that we can start with consisting of 18750 labeled images of dogs and cats. Instead of teaching our network who Louie is, let's start by teaching it what a dog is.\n",
    "\n",
    "By the end of this task, you will have a trained neural network that can correctly classify dogs and cats that were not part of the training dataset.\n",
    " \n",
    "First, learn a bit more about DIGITS and the deep learning workflow by *creating* a training dataset from labeled data.\n",
    "\n",
    "<a href=\"../../../../digits/\" target=\\\"_blank\\\">Open DIGITS</a>.\n",
    "\n",
    "### Loading our first dataset\n",
    "\n",
    "When you start DIGITS, you will be taken to the home screen where you can create new datasets or new models.\n",
    "\n",
    "Begin by selecting the Datasets tab on the left."
   ]
  },
  {
   "cell_type": "markdown",
   "metadata": {},
   "source": [
    "![](images/DIGITSdatasetHome.PNG)"
   ]
  },
  {
   "cell_type": "markdown",
   "metadata": {},
   "source": [
    "Ignore the \"Images of Beagles\" dataset from the last task (for now). Since we want our network to tell us which \"class\" each image belongs to, we ask DIGITS to prepare a **new** \"classification\" image dataset by selecting \"Classification\" from the \"Images\" menu on the right.\n",